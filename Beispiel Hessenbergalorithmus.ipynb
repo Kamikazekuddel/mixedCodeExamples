{
 "cells": [
  {
   "cell_type": "code",
   "execution_count": 43,
   "metadata": {},
   "outputs": [
    {
     "name": "stdout",
     "output_type": "stream",
     "text": [
      "3.6.6 | packaged by conda-forge | (default, Jul 26 2018, 11:48:23) [MSC v.1900 64 bit (AMD64)]\n",
      "1.15.1\n"
     ]
    }
   ],
   "source": [
    "import numpy as np\n",
    "import sys\n",
    "print(sys.version)\n",
    "print(np.__version__)"
   ]
  },
  {
   "cell_type": "markdown",
   "metadata": {},
   "source": [
    "Ein nützliches Tool zur konstruktion der Hessenbergtransformation sind sogenannte [Householdtransformationen(https://de.wikipedia.org/wiki/Householdertransformation)."
   ]
  },
  {
   "cell_type": "code",
   "execution_count": 22,
   "metadata": {},
   "outputs": [],
   "source": [
    "def householdvector(a):\n",
    "    v = a + np.sign(a[0])*np.linalg.norm(a)*np.eye(len(a))[0,:]\n",
    "    return v/np.linalg.norm(v)\n",
    "\n",
    "def householdtransform(a):\n",
    "    v = householdvector(a)\n",
    "    return np.eye(len(a)) - 2*(np.outer(v,v))"
   ]
  },
  {
   "cell_type": "markdown",
   "metadata": {},
   "source": [
    "Beispiel zu illustration, dass die Transformation in die Richtung des ersten Einheitsvektors spiegelt."
   ]
  },
  {
   "cell_type": "code",
   "execution_count": 55,
   "metadata": {},
   "outputs": [
    {
     "data": {
      "text/plain": [
       "array([-9.53939, -0.     ,  0.     , -0.     ,  0.     ,  0.     ])"
      ]
     },
     "execution_count": 55,
     "metadata": {},
     "output_type": "execute_result"
    }
   ],
   "source": [
    "a = np.array([1,2,3,4,5,6])\n",
    "np.round(householdtransform(a) @ a,5)"
   ]
  },
  {
   "cell_type": "markdown",
   "metadata": {},
   "source": [
    "Eine Beschreibung des Hessenbergalgorithmus kann als teil der [QR Algorithmus Wikipediaseite](https://de.wikipedia.org/wiki/QR-Algorithmus#Transformation_auf_Hessenberg-Form) gefunden werden"
   ]
  },
  {
   "cell_type": "markdown",
   "metadata": {},
   "source": [
    "Zunächst wird eine Hilfsfunktion konstruiert die die $P_k$ transformationen berechnet."
   ]
  },
  {
   "cell_type": "code",
   "execution_count": 27,
   "metadata": {},
   "outputs": [],
   "source": [
    "def partialHessenbergTransformation(a,N):\n",
    "    householdDimension = len(a)\n",
    "    identiyDimension = N - len(a)\n",
    "    ht = householdtransform(a)\n",
    "    return np.block([[np.eye(identiyDimension),np.zeros((identiyDimension,householdDimension))],\n",
    "                    [np.zeros((householdDimension,identiyDimension)),ht]])\n",
    "    "
   ]
  },
  {
   "cell_type": "markdown",
   "metadata": {},
   "source": [
    "Der Hessenbergalgorithmus berechnet die $P_k$ iterativ und gibt ihr Produkt als gesammttransformation zurueck|"
   ]
  },
  {
   "cell_type": "code",
   "execution_count": 37,
   "metadata": {},
   "outputs": [],
   "source": [
    "def hessenbergTransformation(matrix):\n",
    "    d = matrix.shape[0]\n",
    "    currentTransformation = np.eye(d)\n",
    "    currentMatrix = matrix\n",
    "    for i in range(d-2):\n",
    "        a = currentMatrix[i+1:d,i]\n",
    "        partialTransformation = partialHessenbergTransformation(a,d)\n",
    "        currentMatrix = partialTransformation @ currentMatrix @ np.linalg.inv(partialTransformation)\n",
    "        currentTransformation = partialTransformation @ currentTransformation\n",
    "    return currentTransformation"
   ]
  },
  {
   "cell_type": "markdown",
   "metadata": {},
   "source": [
    "Beispiel"
   ]
  },
  {
   "cell_type": "code",
   "execution_count": 56,
   "metadata": {},
   "outputs": [
    {
     "data": {
      "text/plain": [
       "array([[ 1,  2,  3,  1],\n",
       "       [ 4,  5,  6,  3],\n",
       "       [ 7,  2,  8,  9],\n",
       "       [ 8,  2, 20,  9]])"
      ]
     },
     "execution_count": 56,
     "metadata": {},
     "output_type": "execute_result"
    }
   ],
   "source": [
    "m = np.array([[1,2,3,1],[4,5,6,3],[7,2,8,9],[8,2,20,9]])\n",
    "m"
   ]
  },
  {
   "cell_type": "code",
   "execution_count": 52,
   "metadata": {},
   "outputs": [
    {
     "data": {
      "text/plain": [
       "array([[ 1.        ,  0.        ,  0.        ,  0.        ],\n",
       "       [ 0.        , -0.35218036, -0.61631563, -0.70436073],\n",
       "       [ 0.        , -0.20119433, -0.68512901,  0.70008505],\n",
       "       [ 0.        , -0.91405133,  0.38826959,  0.11728977]])"
      ]
     },
     "execution_count": 52,
     "metadata": {},
     "output_type": "execute_result"
    }
   ],
   "source": [
    "t = hessenbergTransformation(m)\n",
    "t"
   ]
  },
  {
   "cell_type": "code",
   "execution_count": 53,
   "metadata": {},
   "outputs": [
    {
     "data": {
      "text/plain": [
       "array([[  1.     ,  -3.25767,  -1.75769,  -0.546  ],\n",
       "       [-11.35782,  23.68992,   6.30211,  -5.69861],\n",
       "       [ -0.     ,  -3.83335,  -5.14264,   3.67677],\n",
       "       [  0.     ,   0.     ,   2.00392,   3.45272]])"
      ]
     },
     "execution_count": 53,
     "metadata": {},
     "output_type": "execute_result"
    }
   ],
   "source": [
    "np.round(t @ m @ np.linalg.inv(t),5)"
   ]
  }
 ],
 "metadata": {
  "kernelspec": {
   "display_name": "Python 3",
   "language": "python",
   "name": "python3"
  },
  "language_info": {
   "codemirror_mode": {
    "name": "ipython",
    "version": 3
   },
   "file_extension": ".py",
   "mimetype": "text/x-python",
   "name": "python",
   "nbconvert_exporter": "python",
   "pygments_lexer": "ipython3",
   "version": "3.6.6"
  }
 },
 "nbformat": 4,
 "nbformat_minor": 2
}
